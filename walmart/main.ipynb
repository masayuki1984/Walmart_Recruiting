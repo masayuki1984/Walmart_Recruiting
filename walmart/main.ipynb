{
 "cells": [
  {
   "cell_type": "markdown",
   "metadata": {},
   "source": [
    "## 情報\n",
    "### データの内容\n",
    "- Store - the store number 　　　　　　　　　　　　　　　　　　　　　　店番号\n",
    "- Dept - the department number　　　　　　　　　　　　　　　　　　　　　部門番号\n",
    "- Date - the week　　　　　　　　　　　　　　　　　　　　　　　　　　　一週間単位の金曜日\n",
    "- Weekly_Sales -  sales for the given department in the given store　　指定された店舗の指定部門の売上\n",
    "- IsHoliday - whether the week is a special holiday week　　　　　　　　週が特別休暇の週であるかどうか\n",
    "### ファイルの内容\n",
    "- features.csv.zip\n",
    "    - このファイルには、指定した日付の店舗、部署、および地域活動に関連する追加データが含まれています。以下のフィールドがあります。\n",
    "        - Store - the store number\n",
    "        - Date - the week\n",
    "        - Temperature - average temperature in the region\n",
    "        - Fuel_Price - cost of fuel in the region\n",
    "        - MarkDown1-5 - anonymized data related to promotional markdowns that Walmart is running. MarkDown data is only available after Nov 2011, and is not available for all stores all the time. Any missing value is marked with an NA.\n",
    "        - CPI - the consumer price index ※消費者物価指数\n",
    "        - Unemployment - the unemployment rate\n",
    "        - IsHoliday - whether the week is a special holiday week\n",
    "- stores.csv\n",
    "    - このファイルには、ストアのタイプとサイズを示す45のストアに関する匿名の情報が含まれています。\n",
    "- train.csv.zip\n",
    "    - これは2010-02-05から2012-11-01までの履歴トレーニングデータです。\n",
    "- test.csv.zip\n",
    "    - このファイルはtrain.csvと同じですが、週ごとの販売を控えています。このファイルの店舗、部署、日付の各トリプレットの売上を予測する必要があります。\n",
    "\n",
    "### 備考\n",
    "便宜上、4つの祝日はデータセット内の次の週に分類されます（すべての祝日がデータに含まれるわけではありません）。\n",
    "\n",
    "- スーパーボウル：12-Feb-10,11-Feb-11,10-Feb-12,8-Feb-13\n",
    "- 労働者の日：10-Sep-10,9-Sep-11,7-Sep-12,6-Sep-13\n",
    "- 感謝祭：26-11月-10,25-11月-11日、23-11月-12日、29-11月-13日\n",
    "- クリスマス：31-Dec-10、30-Dec-11、28-Dec-12、27-Dec-13"
   ]
  },
  {
   "cell_type": "markdown",
   "metadata": {},
   "source": [
    "## ライブラリのインポート"
   ]
  },
  {
   "cell_type": "code",
   "execution_count": 1,
   "metadata": {
    "collapsed": false
   },
   "outputs": [],
   "source": [
    "%matplotlib inline\n",
    "import pandas as pd\n",
    "import numpy as np\n",
    "import matplotlib.pyplot as plt"
   ]
  },
  {
   "cell_type": "markdown",
   "metadata": {},
   "source": [
    "## データの読み込み\n",
    "### チェックすべき項目\n",
    "1. 学習データとテストデータの量は？\n",
    "2. ターゲットの変数は何か？そのターゲットの変数は連続値？フラグ？\n",
    "3. 説明変数は数値？カテゴリ変数？"
   ]
  },
  {
   "cell_type": "code",
   "execution_count": 2,
   "metadata": {
    "collapsed": false
   },
   "outputs": [
    {
     "name": "stdout",
     "output_type": "stream",
     "text": [
      "Train shape (421570, 5)\n",
      "Test shape (115064, 4)\n",
      "stores shape (45, 3)\n",
      "features shape (8190, 12)\n"
     ]
    }
   ],
   "source": [
    "train = pd.read_csv(\"datasets/train.csv.zip\")\n",
    "test = pd.read_csv(\"datasets/test.csv.zip\")\n",
    "stores = pd.read_csv(\"datasets/stores.csv\")\n",
    "features = pd.read_csv(\"datasets/features.csv.zip\")\n",
    "print(\"Train shape\", train.shape)\n",
    "print(\"Test shape\", test.shape)\n",
    "print(\"stores shape\", stores.shape)\n",
    "print(\"features shape\", features.shape)"
   ]
  },
  {
   "cell_type": "markdown",
   "metadata": {},
   "source": [
    "## アイデア\n",
    "\n",
    "### WIP\n",
    "- 2011年11月からしかないMarkDownの扱いはどうするか?また、CPIやUnemployment等も欠損値がある\n",
    "    - 中央値で補完する\n",
    "    - 欠損値はそうであるという旨の変数を新たに作る\n",
    "        - データがある\n",
    "        - 欠損している\n",
    "        - もともとデータが無い時期である(MarkDownとCPIとUnemployment)\n",
    "- IsHolidayの扱いは?\n",
    "- Dateの扱いは?\n",
    "    - 年、月、週数　等にバラす\n",
    "- 学習モデルのパラメーターをチューニングする\n",
    "    \n",
    "### Done\n",
    "- storesのデータをtrainとtestにくっつける\n",
    "- featuresのTemperatureとFuel_price等の値をtrainとtestにくっつける\n",
    "- 外れ値の検出方法は?\n",
    "    - 基本的には中央値で対応する。詳細は別タスクで実施\n",
    "\n",
    "### Reject\n",
    "- featuresのTempertureは華氏から摂氏に変換"
   ]
  },
  {
   "cell_type": "markdown",
   "metadata": {},
   "source": [
    "## trainとtestにstoresのデータを結合する"
   ]
  },
  {
   "cell_type": "code",
   "execution_count": 3,
   "metadata": {
    "collapsed": false
   },
   "outputs": [],
   "source": [
    "train = pd.merge(train, stores)\n",
    "test = pd.merge(test, stores)"
   ]
  },
  {
   "cell_type": "markdown",
   "metadata": {
    "collapsed": true
   },
   "source": [
    "## featuresのTemperatureとFuel_price等の値をtrainとtestに結合させる"
   ]
  },
  {
   "cell_type": "code",
   "execution_count": 4,
   "metadata": {
    "collapsed": true
   },
   "outputs": [],
   "source": [
    "train = pd.merge(train, features)\n",
    "test = pd.merge(test, features)"
   ]
  },
  {
   "cell_type": "code",
   "execution_count": 5,
   "metadata": {
    "collapsed": false
   },
   "outputs": [],
   "source": [
    "train = train.sort_values(by=[\"Store\", \"Dept\", \"Date\"], ascending=True)\n",
    "test = test.sort_values(by=[\"Store\", \"Dept\", \"Date\"], ascending=True)"
   ]
  },
  {
   "cell_type": "markdown",
   "metadata": {},
   "source": [
    "## カテゴリカル変数を整数にしてみる"
   ]
  },
  {
   "cell_type": "code",
   "execution_count": 6,
   "metadata": {
    "collapsed": false
   },
   "outputs": [
    {
     "data": {
      "text/plain": [
       "A    22\n",
       "B    17\n",
       "C     6\n",
       "Name: Type, dtype: int64"
      ]
     },
     "execution_count": 6,
     "metadata": {},
     "output_type": "execute_result"
    }
   ],
   "source": [
    "# sotresのTypeは3種類しかない\n",
    "stores['Type'].value_counts()"
   ]
  },
  {
   "cell_type": "code",
   "execution_count": 7,
   "metadata": {
    "collapsed": true
   },
   "outputs": [],
   "source": [
    "# 【A -> 1, B -> 2, C -> 3】 に変換する\n",
    "train['Type'] = train['Type'].mask(train['Type'] == 'A', 1)\n",
    "train['Type'] = train['Type'].mask(train['Type'] == 'B', 2)\n",
    "train['Type'] = train['Type'].mask(train['Type'] == 'C', 3)\n",
    "test['Type'] = test['Type'].mask(test['Type'] == 'A', 1)\n",
    "test['Type'] = test['Type'].mask(test['Type'] == 'B', 2)\n",
    "test['Type'] = test['Type'].mask(test['Type'] == 'C', 3)"
   ]
  },
  {
   "cell_type": "code",
   "execution_count": 8,
   "metadata": {
    "collapsed": false
   },
   "outputs": [
    {
     "data": {
      "text/plain": [
       "False    7605\n",
       "True      585\n",
       "Name: IsHoliday, dtype: int64"
      ]
     },
     "execution_count": 8,
     "metadata": {},
     "output_type": "execute_result"
    }
   ],
   "source": [
    "# featuresのIsHolidayは2種類しかない\n",
    "features['IsHoliday'].value_counts()"
   ]
  },
  {
   "cell_type": "code",
   "execution_count": 9,
   "metadata": {
    "collapsed": true
   },
   "outputs": [],
   "source": [
    "train['IsHoliday'] = train['IsHoliday'].mask(train['IsHoliday'] == True, 1)\n",
    "train['IsHoliday'] = train['IsHoliday'].mask(train['IsHoliday'] == False, 2)\n",
    "test['IsHoliday'] = test['IsHoliday'].mask(test['IsHoliday'] == True, 1)\n",
    "test['IsHoliday'] = test['IsHoliday'].mask(test['IsHoliday'] == False, 2)"
   ]
  },
  {
   "cell_type": "code",
   "execution_count": 10,
   "metadata": {
    "collapsed": false
   },
   "outputs": [
    {
     "data": {
      "text/html": [
       "<div>\n",
       "<table border=\"1\" class=\"dataframe\">\n",
       "  <thead>\n",
       "    <tr style=\"text-align: right;\">\n",
       "      <th></th>\n",
       "      <th>Store</th>\n",
       "      <th>Dept</th>\n",
       "      <th>Date</th>\n",
       "      <th>IsHoliday</th>\n",
       "      <th>Type</th>\n",
       "      <th>Size</th>\n",
       "      <th>Temperature</th>\n",
       "      <th>Fuel_Price</th>\n",
       "      <th>MarkDown1</th>\n",
       "      <th>MarkDown2</th>\n",
       "      <th>MarkDown3</th>\n",
       "      <th>MarkDown4</th>\n",
       "      <th>MarkDown5</th>\n",
       "      <th>CPI</th>\n",
       "      <th>Unemployment</th>\n",
       "    </tr>\n",
       "  </thead>\n",
       "  <tbody>\n",
       "    <tr>\n",
       "      <th>0</th>\n",
       "      <td>1</td>\n",
       "      <td>1</td>\n",
       "      <td>2012-11-02</td>\n",
       "      <td>2</td>\n",
       "      <td>1</td>\n",
       "      <td>151315</td>\n",
       "      <td>55.32</td>\n",
       "      <td>3.386</td>\n",
       "      <td>6766.44</td>\n",
       "      <td>5147.70</td>\n",
       "      <td>50.82</td>\n",
       "      <td>3639.90</td>\n",
       "      <td>2737.42</td>\n",
       "      <td>223.462779</td>\n",
       "      <td>6.573</td>\n",
       "    </tr>\n",
       "    <tr>\n",
       "      <th>71</th>\n",
       "      <td>1</td>\n",
       "      <td>1</td>\n",
       "      <td>2012-11-09</td>\n",
       "      <td>2</td>\n",
       "      <td>1</td>\n",
       "      <td>151315</td>\n",
       "      <td>61.24</td>\n",
       "      <td>3.314</td>\n",
       "      <td>11421.32</td>\n",
       "      <td>3370.89</td>\n",
       "      <td>40.28</td>\n",
       "      <td>4646.79</td>\n",
       "      <td>6154.16</td>\n",
       "      <td>223.481307</td>\n",
       "      <td>6.573</td>\n",
       "    </tr>\n",
       "    <tr>\n",
       "      <th>142</th>\n",
       "      <td>1</td>\n",
       "      <td>1</td>\n",
       "      <td>2012-11-16</td>\n",
       "      <td>2</td>\n",
       "      <td>1</td>\n",
       "      <td>151315</td>\n",
       "      <td>52.92</td>\n",
       "      <td>3.252</td>\n",
       "      <td>9696.28</td>\n",
       "      <td>292.10</td>\n",
       "      <td>103.78</td>\n",
       "      <td>1133.15</td>\n",
       "      <td>6612.69</td>\n",
       "      <td>223.512911</td>\n",
       "      <td>6.573</td>\n",
       "    </tr>\n",
       "    <tr>\n",
       "      <th>213</th>\n",
       "      <td>1</td>\n",
       "      <td>1</td>\n",
       "      <td>2012-11-23</td>\n",
       "      <td>1</td>\n",
       "      <td>1</td>\n",
       "      <td>151315</td>\n",
       "      <td>56.23</td>\n",
       "      <td>3.211</td>\n",
       "      <td>883.59</td>\n",
       "      <td>4.17</td>\n",
       "      <td>74910.32</td>\n",
       "      <td>209.91</td>\n",
       "      <td>303.32</td>\n",
       "      <td>223.561947</td>\n",
       "      <td>6.573</td>\n",
       "    </tr>\n",
       "    <tr>\n",
       "      <th>285</th>\n",
       "      <td>1</td>\n",
       "      <td>1</td>\n",
       "      <td>2012-11-30</td>\n",
       "      <td>2</td>\n",
       "      <td>1</td>\n",
       "      <td>151315</td>\n",
       "      <td>52.34</td>\n",
       "      <td>3.207</td>\n",
       "      <td>2460.03</td>\n",
       "      <td>NaN</td>\n",
       "      <td>3838.35</td>\n",
       "      <td>150.57</td>\n",
       "      <td>6966.34</td>\n",
       "      <td>223.610984</td>\n",
       "      <td>6.573</td>\n",
       "    </tr>\n",
       "  </tbody>\n",
       "</table>\n",
       "</div>"
      ],
      "text/plain": [
       "     Store  Dept        Date  IsHoliday Type    Size  Temperature  Fuel_Price  \\\n",
       "0        1     1  2012-11-02          2    1  151315        55.32       3.386   \n",
       "71       1     1  2012-11-09          2    1  151315        61.24       3.314   \n",
       "142      1     1  2012-11-16          2    1  151315        52.92       3.252   \n",
       "213      1     1  2012-11-23          1    1  151315        56.23       3.211   \n",
       "285      1     1  2012-11-30          2    1  151315        52.34       3.207   \n",
       "\n",
       "     MarkDown1  MarkDown2  MarkDown3  MarkDown4  MarkDown5         CPI  \\\n",
       "0      6766.44    5147.70      50.82    3639.90    2737.42  223.462779   \n",
       "71    11421.32    3370.89      40.28    4646.79    6154.16  223.481307   \n",
       "142    9696.28     292.10     103.78    1133.15    6612.69  223.512911   \n",
       "213     883.59       4.17   74910.32     209.91     303.32  223.561947   \n",
       "285    2460.03        NaN    3838.35     150.57    6966.34  223.610984   \n",
       "\n",
       "     Unemployment  \n",
       "0           6.573  \n",
       "71          6.573  \n",
       "142         6.573  \n",
       "213         6.573  \n",
       "285         6.573  "
      ]
     },
     "execution_count": 10,
     "metadata": {},
     "output_type": "execute_result"
    }
   ],
   "source": [
    "test.head()"
   ]
  },
  {
   "cell_type": "markdown",
   "metadata": {},
   "source": [
    "## キー名の結合\n",
    "#### Store_Dept_Date にする ex:Store = 2, Dept = 29, Date = 2013-06-07 -> 2_29_2013-06-07"
   ]
  },
  {
   "cell_type": "code",
   "execution_count": 11,
   "metadata": {
    "collapsed": false
   },
   "outputs": [],
   "source": [
    "train['PK_ID'] = train[['Store', 'Dept', 'Date']].apply(lambda x: '{}_{}_{}'.format(x[0], x[1], x[2]), axis=1)\n",
    "test['PK_ID'] = test[['Store', 'Dept', 'Date']].apply(lambda x: '{}_{}_{}'.format(x[0], x[1], x[2]), axis=1)"
   ]
  },
  {
   "cell_type": "code",
   "execution_count": 12,
   "metadata": {
    "collapsed": false,
    "scrolled": false
   },
   "outputs": [
    {
     "data": {
      "text/html": [
       "<div>\n",
       "<table border=\"1\" class=\"dataframe\">\n",
       "  <thead>\n",
       "    <tr style=\"text-align: right;\">\n",
       "      <th></th>\n",
       "      <th>Store</th>\n",
       "      <th>Dept</th>\n",
       "      <th>Date</th>\n",
       "      <th>Weekly_Sales</th>\n",
       "      <th>IsHoliday</th>\n",
       "      <th>Type</th>\n",
       "      <th>Size</th>\n",
       "      <th>Temperature</th>\n",
       "      <th>Fuel_Price</th>\n",
       "      <th>MarkDown1</th>\n",
       "      <th>MarkDown2</th>\n",
       "      <th>MarkDown3</th>\n",
       "      <th>MarkDown4</th>\n",
       "      <th>MarkDown5</th>\n",
       "      <th>CPI</th>\n",
       "      <th>Unemployment</th>\n",
       "      <th>PK_ID</th>\n",
       "    </tr>\n",
       "  </thead>\n",
       "  <tbody>\n",
       "    <tr>\n",
       "      <th>0</th>\n",
       "      <td>1</td>\n",
       "      <td>1</td>\n",
       "      <td>2010-02-05</td>\n",
       "      <td>24924.5</td>\n",
       "      <td>2</td>\n",
       "      <td>1</td>\n",
       "      <td>151315</td>\n",
       "      <td>42.31</td>\n",
       "      <td>2.572</td>\n",
       "      <td>NaN</td>\n",
       "      <td>NaN</td>\n",
       "      <td>NaN</td>\n",
       "      <td>NaN</td>\n",
       "      <td>NaN</td>\n",
       "      <td>211.096358</td>\n",
       "      <td>8.106</td>\n",
       "      <td>1_1_2010-02-05</td>\n",
       "    </tr>\n",
       "  </tbody>\n",
       "</table>\n",
       "</div>"
      ],
      "text/plain": [
       "   Store  Dept        Date  Weekly_Sales  IsHoliday Type    Size  Temperature  \\\n",
       "0      1     1  2010-02-05       24924.5          2    1  151315        42.31   \n",
       "\n",
       "   Fuel_Price  MarkDown1  MarkDown2  MarkDown3  MarkDown4  MarkDown5  \\\n",
       "0       2.572        NaN        NaN        NaN        NaN        NaN   \n",
       "\n",
       "          CPI  Unemployment           PK_ID  \n",
       "0  211.096358         8.106  1_1_2010-02-05  "
      ]
     },
     "execution_count": 12,
     "metadata": {},
     "output_type": "execute_result"
    }
   ],
   "source": [
    "train.head(1)"
   ]
  },
  {
   "cell_type": "code",
   "execution_count": 13,
   "metadata": {
    "collapsed": false,
    "scrolled": true
   },
   "outputs": [
    {
     "data": {
      "text/html": [
       "<div>\n",
       "<table border=\"1\" class=\"dataframe\">\n",
       "  <thead>\n",
       "    <tr style=\"text-align: right;\">\n",
       "      <th></th>\n",
       "      <th>Store</th>\n",
       "      <th>Dept</th>\n",
       "      <th>Date</th>\n",
       "      <th>IsHoliday</th>\n",
       "      <th>Type</th>\n",
       "      <th>Size</th>\n",
       "      <th>Temperature</th>\n",
       "      <th>Fuel_Price</th>\n",
       "      <th>MarkDown1</th>\n",
       "      <th>MarkDown2</th>\n",
       "      <th>MarkDown3</th>\n",
       "      <th>MarkDown4</th>\n",
       "      <th>MarkDown5</th>\n",
       "      <th>CPI</th>\n",
       "      <th>Unemployment</th>\n",
       "      <th>PK_ID</th>\n",
       "    </tr>\n",
       "  </thead>\n",
       "  <tbody>\n",
       "    <tr>\n",
       "      <th>0</th>\n",
       "      <td>1</td>\n",
       "      <td>1</td>\n",
       "      <td>2012-11-02</td>\n",
       "      <td>2</td>\n",
       "      <td>1</td>\n",
       "      <td>151315</td>\n",
       "      <td>55.32</td>\n",
       "      <td>3.386</td>\n",
       "      <td>6766.44</td>\n",
       "      <td>5147.7</td>\n",
       "      <td>50.82</td>\n",
       "      <td>3639.9</td>\n",
       "      <td>2737.42</td>\n",
       "      <td>223.462779</td>\n",
       "      <td>6.573</td>\n",
       "      <td>1_1_2012-11-02</td>\n",
       "    </tr>\n",
       "  </tbody>\n",
       "</table>\n",
       "</div>"
      ],
      "text/plain": [
       "   Store  Dept        Date  IsHoliday Type    Size  Temperature  Fuel_Price  \\\n",
       "0      1     1  2012-11-02          2    1  151315        55.32       3.386   \n",
       "\n",
       "   MarkDown1  MarkDown2  MarkDown3  MarkDown4  MarkDown5         CPI  \\\n",
       "0    6766.44     5147.7      50.82     3639.9    2737.42  223.462779   \n",
       "\n",
       "   Unemployment           PK_ID  \n",
       "0         6.573  1_1_2012-11-02  "
      ]
     },
     "execution_count": 13,
     "metadata": {},
     "output_type": "execute_result"
    }
   ],
   "source": [
    "test.head(1)"
   ]
  },
  {
   "cell_type": "markdown",
   "metadata": {},
   "source": [
    "## trainとtestをくっつけて特徴量を作る"
   ]
  },
  {
   "cell_type": "markdown",
   "metadata": {},
   "source": [
    "* testにはターゲット変数になる'revenue'がないから追加する（ただし全て0で)。\n",
    "* また、後でtrainから来たデータなのか、testから来たデータなのかの見分けがつくようにis_trainでフラグを立てておく"
   ]
  },
  {
   "cell_type": "code",
   "execution_count": 14,
   "metadata": {
    "collapsed": true
   },
   "outputs": [],
   "source": [
    "test['Weekly_Sales']  = 0.0\n",
    "test['is_train'] = 0\n",
    "train['is_train'] = 1\n",
    "whole_data = train.append(test)"
   ]
  },
  {
   "cell_type": "code",
   "execution_count": 24,
   "metadata": {
    "collapsed": false
   },
   "outputs": [
    {
     "data": {
      "text/html": [
       "<div>\n",
       "<table border=\"1\" class=\"dataframe\">\n",
       "  <thead>\n",
       "    <tr style=\"text-align: right;\">\n",
       "      <th></th>\n",
       "      <th>CPI</th>\n",
       "      <th>Date</th>\n",
       "      <th>Dept</th>\n",
       "      <th>Fuel_Price</th>\n",
       "      <th>IsHoliday</th>\n",
       "      <th>MarkDown1</th>\n",
       "      <th>MarkDown2</th>\n",
       "      <th>MarkDown3</th>\n",
       "      <th>MarkDown4</th>\n",
       "      <th>MarkDown5</th>\n",
       "      <th>PK_ID</th>\n",
       "      <th>Size</th>\n",
       "      <th>Store</th>\n",
       "      <th>Temperature</th>\n",
       "      <th>Type</th>\n",
       "      <th>Unemployment</th>\n",
       "      <th>Weekly_Sales</th>\n",
       "      <th>is_train</th>\n",
       "      <th>Missing_val_Unemployment</th>\n",
       "    </tr>\n",
       "  </thead>\n",
       "  <tbody>\n",
       "    <tr>\n",
       "      <th>0</th>\n",
       "      <td>211.096358</td>\n",
       "      <td>2010-02-05</td>\n",
       "      <td>1</td>\n",
       "      <td>2.572</td>\n",
       "      <td>2</td>\n",
       "      <td>NaN</td>\n",
       "      <td>NaN</td>\n",
       "      <td>NaN</td>\n",
       "      <td>NaN</td>\n",
       "      <td>NaN</td>\n",
       "      <td>1_1_2010-02-05</td>\n",
       "      <td>151315</td>\n",
       "      <td>1</td>\n",
       "      <td>42.31</td>\n",
       "      <td>1</td>\n",
       "      <td>8.106</td>\n",
       "      <td>24924.50</td>\n",
       "      <td>1</td>\n",
       "      <td>1.0</td>\n",
       "    </tr>\n",
       "    <tr>\n",
       "      <th>73</th>\n",
       "      <td>211.242170</td>\n",
       "      <td>2010-02-12</td>\n",
       "      <td>1</td>\n",
       "      <td>2.548</td>\n",
       "      <td>1</td>\n",
       "      <td>NaN</td>\n",
       "      <td>NaN</td>\n",
       "      <td>NaN</td>\n",
       "      <td>NaN</td>\n",
       "      <td>NaN</td>\n",
       "      <td>1_1_2010-02-12</td>\n",
       "      <td>151315</td>\n",
       "      <td>1</td>\n",
       "      <td>38.51</td>\n",
       "      <td>1</td>\n",
       "      <td>8.106</td>\n",
       "      <td>46039.49</td>\n",
       "      <td>1</td>\n",
       "      <td>1.0</td>\n",
       "    </tr>\n",
       "    <tr>\n",
       "      <th>145</th>\n",
       "      <td>211.289143</td>\n",
       "      <td>2010-02-19</td>\n",
       "      <td>1</td>\n",
       "      <td>2.514</td>\n",
       "      <td>2</td>\n",
       "      <td>NaN</td>\n",
       "      <td>NaN</td>\n",
       "      <td>NaN</td>\n",
       "      <td>NaN</td>\n",
       "      <td>NaN</td>\n",
       "      <td>1_1_2010-02-19</td>\n",
       "      <td>151315</td>\n",
       "      <td>1</td>\n",
       "      <td>39.93</td>\n",
       "      <td>1</td>\n",
       "      <td>8.106</td>\n",
       "      <td>41595.55</td>\n",
       "      <td>1</td>\n",
       "      <td>1.0</td>\n",
       "    </tr>\n",
       "    <tr>\n",
       "      <th>218</th>\n",
       "      <td>211.319643</td>\n",
       "      <td>2010-02-26</td>\n",
       "      <td>1</td>\n",
       "      <td>2.561</td>\n",
       "      <td>2</td>\n",
       "      <td>NaN</td>\n",
       "      <td>NaN</td>\n",
       "      <td>NaN</td>\n",
       "      <td>NaN</td>\n",
       "      <td>NaN</td>\n",
       "      <td>1_1_2010-02-26</td>\n",
       "      <td>151315</td>\n",
       "      <td>1</td>\n",
       "      <td>46.63</td>\n",
       "      <td>1</td>\n",
       "      <td>8.106</td>\n",
       "      <td>19403.54</td>\n",
       "      <td>1</td>\n",
       "      <td>1.0</td>\n",
       "    </tr>\n",
       "    <tr>\n",
       "      <th>290</th>\n",
       "      <td>211.350143</td>\n",
       "      <td>2010-03-05</td>\n",
       "      <td>1</td>\n",
       "      <td>2.625</td>\n",
       "      <td>2</td>\n",
       "      <td>NaN</td>\n",
       "      <td>NaN</td>\n",
       "      <td>NaN</td>\n",
       "      <td>NaN</td>\n",
       "      <td>NaN</td>\n",
       "      <td>1_1_2010-03-05</td>\n",
       "      <td>151315</td>\n",
       "      <td>1</td>\n",
       "      <td>46.50</td>\n",
       "      <td>1</td>\n",
       "      <td>8.106</td>\n",
       "      <td>21827.90</td>\n",
       "      <td>1</td>\n",
       "      <td>1.0</td>\n",
       "    </tr>\n",
       "  </tbody>\n",
       "</table>\n",
       "</div>"
      ],
      "text/plain": [
       "            CPI        Date  Dept  Fuel_Price  IsHoliday  MarkDown1  \\\n",
       "0    211.096358  2010-02-05     1       2.572          2        NaN   \n",
       "73   211.242170  2010-02-12     1       2.548          1        NaN   \n",
       "145  211.289143  2010-02-19     1       2.514          2        NaN   \n",
       "218  211.319643  2010-02-26     1       2.561          2        NaN   \n",
       "290  211.350143  2010-03-05     1       2.625          2        NaN   \n",
       "\n",
       "     MarkDown2  MarkDown3  MarkDown4  MarkDown5           PK_ID    Size  \\\n",
       "0          NaN        NaN        NaN        NaN  1_1_2010-02-05  151315   \n",
       "73         NaN        NaN        NaN        NaN  1_1_2010-02-12  151315   \n",
       "145        NaN        NaN        NaN        NaN  1_1_2010-02-19  151315   \n",
       "218        NaN        NaN        NaN        NaN  1_1_2010-02-26  151315   \n",
       "290        NaN        NaN        NaN        NaN  1_1_2010-03-05  151315   \n",
       "\n",
       "     Store  Temperature Type  Unemployment  Weekly_Sales  is_train  \\\n",
       "0        1        42.31    1         8.106      24924.50         1   \n",
       "73       1        38.51    1         8.106      46039.49         1   \n",
       "145      1        39.93    1         8.106      41595.55         1   \n",
       "218      1        46.63    1         8.106      19403.54         1   \n",
       "290      1        46.50    1         8.106      21827.90         1   \n",
       "\n",
       "     Missing_val_Unemployment  \n",
       "0                         1.0  \n",
       "73                        1.0  \n",
       "145                       1.0  \n",
       "218                       1.0  \n",
       "290                       1.0  "
      ]
     },
     "execution_count": 24,
     "metadata": {},
     "output_type": "execute_result"
    }
   ],
   "source": [
    "whole_data.head()"
   ]
  },
  {
   "cell_type": "markdown",
   "metadata": {},
   "source": [
    "説明変数(predictor variables)とターゲット変数(target variable)、また説明変数から除外する変数を定義する。"
   ]
  },
  {
   "cell_type": "code",
   "execution_count": 17,
   "metadata": {
    "collapsed": false
   },
   "outputs": [
    {
     "data": {
      "text/plain": [
       "Index(['CPI', 'Date', 'Dept', 'Fuel_Price', 'IsHoliday', 'MarkDown1',\n",
       "       'MarkDown2', 'MarkDown3', 'MarkDown4', 'MarkDown5', 'PK_ID', 'Size',\n",
       "       'Store', 'Temperature', 'Type', 'Unemployment', 'Weekly_Sales',\n",
       "       'is_train'],\n",
       "      dtype='object')"
      ]
     },
     "execution_count": 17,
     "metadata": {},
     "output_type": "execute_result"
    }
   ],
   "source": [
    "whole_data.columns"
   ]
  },
  {
   "cell_type": "markdown",
   "metadata": {},
   "source": [
    "## 欠損値の対処を行う"
   ]
  },
  {
   "cell_type": "code",
   "execution_count": 23,
   "metadata": {
    "collapsed": false
   },
   "outputs": [
    {
     "data": {
      "text/plain": [
       "7.795"
      ]
     },
     "execution_count": 23,
     "metadata": {},
     "output_type": "execute_result"
    }
   ],
   "source": [
    "whole_data['Unemployment'].median()"
   ]
  },
  {
   "cell_type": "code",
   "execution_count": 22,
   "metadata": {
    "collapsed": false
   },
   "outputs": [
    {
     "data": {
      "text/html": [
       "<div>\n",
       "<table border=\"1\" class=\"dataframe\">\n",
       "  <thead>\n",
       "    <tr style=\"text-align: right;\">\n",
       "      <th></th>\n",
       "      <th>CPI</th>\n",
       "      <th>Date</th>\n",
       "      <th>Dept</th>\n",
       "      <th>Fuel_Price</th>\n",
       "      <th>IsHoliday</th>\n",
       "      <th>MarkDown1</th>\n",
       "      <th>MarkDown2</th>\n",
       "      <th>MarkDown3</th>\n",
       "      <th>MarkDown4</th>\n",
       "      <th>MarkDown5</th>\n",
       "      <th>PK_ID</th>\n",
       "      <th>Size</th>\n",
       "      <th>Store</th>\n",
       "      <th>Temperature</th>\n",
       "      <th>Type</th>\n",
       "      <th>Unemployment</th>\n",
       "      <th>Weekly_Sales</th>\n",
       "      <th>is_train</th>\n",
       "      <th>Missing_val_Unemployment</th>\n",
       "    </tr>\n",
       "  </thead>\n",
       "  <tbody>\n",
       "    <tr>\n",
       "      <th>1864</th>\n",
       "      <td>182.44242</td>\n",
       "      <td>2013-05-03</td>\n",
       "      <td>1</td>\n",
       "      <td>3.386</td>\n",
       "      <td>2</td>\n",
       "      <td>2298.63</td>\n",
       "      <td>2.0</td>\n",
       "      <td>129.9</td>\n",
       "      <td>55.46</td>\n",
       "      <td>1301.04</td>\n",
       "      <td>1_1_2013-05-03</td>\n",
       "      <td>151315</td>\n",
       "      <td>1</td>\n",
       "      <td>66.66</td>\n",
       "      <td>1</td>\n",
       "      <td>7.795</td>\n",
       "      <td>0.0</td>\n",
       "      <td>0</td>\n",
       "      <td>2.0</td>\n",
       "    </tr>\n",
       "    <tr>\n",
       "      <th>1865</th>\n",
       "      <td>182.44242</td>\n",
       "      <td>2013-05-03</td>\n",
       "      <td>2</td>\n",
       "      <td>3.386</td>\n",
       "      <td>2</td>\n",
       "      <td>2298.63</td>\n",
       "      <td>2.0</td>\n",
       "      <td>129.9</td>\n",
       "      <td>55.46</td>\n",
       "      <td>1301.04</td>\n",
       "      <td>1_2_2013-05-03</td>\n",
       "      <td>151315</td>\n",
       "      <td>1</td>\n",
       "      <td>66.66</td>\n",
       "      <td>1</td>\n",
       "      <td>7.795</td>\n",
       "      <td>0.0</td>\n",
       "      <td>0</td>\n",
       "      <td>2.0</td>\n",
       "    </tr>\n",
       "    <tr>\n",
       "      <th>1866</th>\n",
       "      <td>182.44242</td>\n",
       "      <td>2013-05-03</td>\n",
       "      <td>3</td>\n",
       "      <td>3.386</td>\n",
       "      <td>2</td>\n",
       "      <td>2298.63</td>\n",
       "      <td>2.0</td>\n",
       "      <td>129.9</td>\n",
       "      <td>55.46</td>\n",
       "      <td>1301.04</td>\n",
       "      <td>1_3_2013-05-03</td>\n",
       "      <td>151315</td>\n",
       "      <td>1</td>\n",
       "      <td>66.66</td>\n",
       "      <td>1</td>\n",
       "      <td>7.795</td>\n",
       "      <td>0.0</td>\n",
       "      <td>0</td>\n",
       "      <td>2.0</td>\n",
       "    </tr>\n",
       "  </tbody>\n",
       "</table>\n",
       "</div>"
      ],
      "text/plain": [
       "            CPI        Date  Dept  Fuel_Price  IsHoliday  MarkDown1  \\\n",
       "1864  182.44242  2013-05-03     1       3.386          2    2298.63   \n",
       "1865  182.44242  2013-05-03     2       3.386          2    2298.63   \n",
       "1866  182.44242  2013-05-03     3       3.386          2    2298.63   \n",
       "\n",
       "      MarkDown2  MarkDown3  MarkDown4  MarkDown5           PK_ID    Size  \\\n",
       "1864        2.0      129.9      55.46    1301.04  1_1_2013-05-03  151315   \n",
       "1865        2.0      129.9      55.46    1301.04  1_2_2013-05-03  151315   \n",
       "1866        2.0      129.9      55.46    1301.04  1_3_2013-05-03  151315   \n",
       "\n",
       "      Store  Temperature Type  Unemployment  Weekly_Sales  is_train  \\\n",
       "1864      1        66.66    1         7.795           0.0         0   \n",
       "1865      1        66.66    1         7.795           0.0         0   \n",
       "1866      1        66.66    1         7.795           0.0         0   \n",
       "\n",
       "      Missing_val_Unemployment  \n",
       "1864                       2.0  \n",
       "1865                       2.0  \n",
       "1866                       2.0  "
      ]
     },
     "execution_count": 22,
     "metadata": {},
     "output_type": "execute_result"
    }
   ],
   "source": [
    "# 確認用\n",
    "whole_data[ (whole_data['Store'] == 1) & (whole_data['Date'] == '2013-05-03') ].head(3)"
   ]
  },
  {
   "cell_type": "markdown",
   "metadata": {},
   "source": [
    "#### UnemploymentとCPIの欠損値ありなしフラグを付与する"
   ]
  },
  {
   "cell_type": "code",
   "execution_count": 20,
   "metadata": {
    "collapsed": false
   },
   "outputs": [],
   "source": [
    "# UnemploymentとCPIのNaNのレコードにそれぞれMissing_val_UnemploymentとMissing_val_CPI列を作成する\n",
    "whole_data['Missing_val_Unemployment'] = 1.0\n",
    "whole_data['Missing_val_Unemployment'] = whole_data['Missing_val_Unemployment'].mask(pd.isnull(whole_data['Unemployment']), 2)"
   ]
  },
  {
   "cell_type": "code",
   "execution_count": 21,
   "metadata": {
    "collapsed": false
   },
   "outputs": [],
   "source": [
    "# UnemploymentのNaNを中央値に変換する\n",
    "unemployment_median = whole_data['Unemployment'].median()\n",
    "whole_data['Unemployment'] = whole_data['Unemployment'].fillna(unemployment_median)\n",
    "# CPIのNaNを中央値に変換する\n",
    "CPI_median = whole_data['CPI'].median()\n",
    "whole_data['CPI'] = whole_data['CPI'].fillna(CPI_median)"
   ]
  },
  {
   "cell_type": "code",
   "execution_count": 25,
   "metadata": {
    "collapsed": true
   },
   "outputs": [],
   "source": [
    "exclude_colnames = ['MarkDown1', 'MarkDown2', 'MarkDown3', 'MarkDown4', 'MarkDown5', 'PK_ID', 'Date', 'Weekly_Sales']\n",
    "target_colnames = 'Weekly_Sales'\n",
    "predictor_colnames = [colname for colname in whole_data.columns if colname not in exclude_colnames]"
   ]
  },
  {
   "cell_type": "code",
   "execution_count": 26,
   "metadata": {
    "collapsed": false,
    "scrolled": true
   },
   "outputs": [
    {
     "data": {
      "text/plain": [
       "['CPI',\n",
       " 'Dept',\n",
       " 'Fuel_Price',\n",
       " 'IsHoliday',\n",
       " 'Size',\n",
       " 'Store',\n",
       " 'Temperature',\n",
       " 'Type',\n",
       " 'Unemployment',\n",
       " 'is_train',\n",
       " 'Missing_val_Unemployment']"
      ]
     },
     "execution_count": 26,
     "metadata": {},
     "output_type": "execute_result"
    }
   ],
   "source": [
    "predictor_colnames"
   ]
  },
  {
   "cell_type": "code",
   "execution_count": 27,
   "metadata": {
    "collapsed": true
   },
   "outputs": [],
   "source": [
    "whole_X_df = whole_data[predictor_colnames]\n",
    "whole_y_df = whole_data[target_colnames]"
   ]
  },
  {
   "cell_type": "markdown",
   "metadata": {},
   "source": [
    "## カテゴリカル変数で整数にしていないものをダミー変数に変換する"
   ]
  },
  {
   "cell_type": "code",
   "execution_count": 28,
   "metadata": {
    "collapsed": true
   },
   "outputs": [],
   "source": [
    "# whole_X_df = pd.get_dummies(whole_X_df, columns=['City'])"
   ]
  },
  {
   "cell_type": "markdown",
   "metadata": {},
   "source": [
    "## 以下は学習実行"
   ]
  },
  {
   "cell_type": "code",
   "execution_count": 29,
   "metadata": {
    "collapsed": true
   },
   "outputs": [],
   "source": [
    "feature_names = whole_X_df.columns"
   ]
  },
  {
   "cell_type": "code",
   "execution_count": 30,
   "metadata": {
    "collapsed": false
   },
   "outputs": [
    {
     "data": {
      "text/plain": [
       "Index(['CPI', 'Dept', 'Fuel_Price', 'IsHoliday', 'Size', 'Store',\n",
       "       'Temperature', 'Type', 'Unemployment', 'is_train',\n",
       "       'Missing_val_Unemployment'],\n",
       "      dtype='object')"
      ]
     },
     "execution_count": 30,
     "metadata": {},
     "output_type": "execute_result"
    }
   ],
   "source": [
    "feature_names"
   ]
  },
  {
   "cell_type": "code",
   "execution_count": 31,
   "metadata": {
    "collapsed": true
   },
   "outputs": [],
   "source": [
    "X_train = np.array(whole_X_df[whole_X_df['is_train']==1])\n",
    "y_train = np.array(whole_y_df[whole_X_df['is_train']==1])\n",
    "X_test = np.array(whole_X_df[whole_X_df['is_train']==0])\n",
    "y_test = np.array(whole_y_df[whole_X_df['is_train']==0])"
   ]
  },
  {
   "cell_type": "code",
   "execution_count": 32,
   "metadata": {
    "collapsed": false
   },
   "outputs": [
    {
     "data": {
      "text/plain": [
       "array([[223.4627793, 1, 3.386, ..., 6.5729999999999995, 0, 1.0],\n",
       "       [223.48130730000003, 1, 3.3139999999999996, ..., 6.5729999999999995,\n",
       "        0, 1.0],\n",
       "       [223.5129105, 1, 3.252, ..., 6.5729999999999995, 0, 1.0],\n",
       "       ..., \n",
       "       [182.4424199, 98, 3.614, ..., 7.795, 0, 2.0],\n",
       "       [182.4424199, 98, 3.737, ..., 7.795, 0, 2.0],\n",
       "       [182.4424199, 98, 3.804, ..., 7.795, 0, 2.0]], dtype=object)"
      ]
     },
     "execution_count": 32,
     "metadata": {},
     "output_type": "execute_result"
    }
   ],
   "source": [
    "X_test"
   ]
  },
  {
   "cell_type": "markdown",
   "metadata": {},
   "source": [
    "## モデリング - クロスバリデーション"
   ]
  },
  {
   "cell_type": "code",
   "execution_count": 33,
   "metadata": {
    "collapsed": true
   },
   "outputs": [],
   "source": [
    "from sklearn.linear_model import Ridge\n",
    "from sklearn.cross_validation import KFold\n",
    "from sklearn.metrics import mean_squared_error"
   ]
  },
  {
   "cell_type": "code",
   "execution_count": 34,
   "metadata": {
    "collapsed": true
   },
   "outputs": [],
   "source": [
    "kf = KFold(n=X_train.shape[0], n_folds=7, random_state=1234, shuffle=True)"
   ]
  },
  {
   "cell_type": "code",
   "execution_count": 35,
   "metadata": {
    "collapsed": false
   },
   "outputs": [
    {
     "data": {
      "text/plain": [
       "sklearn.cross_validation.KFold(n=421570, n_folds=7, shuffle=True, random_state=1234)"
      ]
     },
     "execution_count": 35,
     "metadata": {},
     "output_type": "execute_result"
    }
   ],
   "source": [
    "kf"
   ]
  },
  {
   "cell_type": "code",
   "execution_count": 36,
   "metadata": {
    "collapsed": true
   },
   "outputs": [],
   "source": [
    "clf = Ridge()"
   ]
  },
  {
   "cell_type": "code",
   "execution_count": 37,
   "metadata": {
    "collapsed": false
   },
   "outputs": [
    {
     "data": {
      "text/plain": [
       "Ridge(alpha=1.0, copy_X=True, fit_intercept=True, max_iter=None,\n",
       "   normalize=False, random_state=None, solver='auto', tol=0.001)"
      ]
     },
     "execution_count": 37,
     "metadata": {},
     "output_type": "execute_result"
    }
   ],
   "source": [
    "clf"
   ]
  },
  {
   "cell_type": "code",
   "execution_count": 38,
   "metadata": {
    "collapsed": false
   },
   "outputs": [
    {
     "name": "stdout",
     "output_type": "stream",
     "text": [
      "rmse:  21974.6950066\n",
      "rmse:  21496.37024\n",
      "rmse:  21784.6228713\n",
      "rmse:  21780.7564974\n",
      "rmse:  21332.5882982\n",
      "rmse:  21799.1715499\n",
      "rmse:  21809.2959337\n",
      "Mean RMSE: 21711.071485\n",
      "Std RMSE: +- 202.314811102\n"
     ]
    }
   ],
   "source": [
    "rmse_cv_scores = []\n",
    "for train_index, test_index in kf:\n",
    "    clf.fit(X_train[train_index, :], y_train[train_index])\n",
    "    ypred = clf.predict(X_train[test_index])\n",
    "    rmse = mean_squared_error(y_train[test_index], ypred)**0.5\n",
    "    rmse_cv_scores.append(rmse)\n",
    "    print('rmse: ', rmse)\n",
    "print('Mean RMSE: %f'% np.mean(rmse_cv_scores))\n",
    "print('Std RMSE: +-', np.std(rmse_cv_scores))"
   ]
  },
  {
   "cell_type": "code",
   "execution_count": 39,
   "metadata": {
    "collapsed": false
   },
   "outputs": [
    {
     "data": {
      "text/plain": [
       "Ridge(alpha=1.0, copy_X=True, fit_intercept=True, max_iter=None,\n",
       "   normalize=False, random_state=None, solver='auto', tol=0.001)"
      ]
     },
     "execution_count": 39,
     "metadata": {},
     "output_type": "execute_result"
    }
   ],
   "source": [
    "clf.fit(X_train, y_train)"
   ]
  },
  {
   "cell_type": "markdown",
   "metadata": {},
   "source": [
    "## submissionファイルを作成"
   ]
  },
  {
   "cell_type": "code",
   "execution_count": 40,
   "metadata": {
    "collapsed": false
   },
   "outputs": [],
   "source": [
    "ypred_test = clf.predict(X_test)"
   ]
  },
  {
   "cell_type": "code",
   "execution_count": 41,
   "metadata": {
    "collapsed": true
   },
   "outputs": [],
   "source": [
    "submission = test[['PK_ID', 'Weekly_Sales']].copy()"
   ]
  },
  {
   "cell_type": "code",
   "execution_count": 42,
   "metadata": {
    "collapsed": true
   },
   "outputs": [],
   "source": [
    "submission.loc[: , 'Weekly_Sales'] = ypred_test"
   ]
  },
  {
   "cell_type": "code",
   "execution_count": 43,
   "metadata": {
    "collapsed": false
   },
   "outputs": [],
   "source": [
    "submission.columns = ['Id', 'Weekly_Sales']"
   ]
  },
  {
   "cell_type": "code",
   "execution_count": 44,
   "metadata": {
    "collapsed": true
   },
   "outputs": [],
   "source": [
    "# Make submission File \n",
    "submission.to_csv(\"submission_1.csv\", index=False)"
   ]
  },
  {
   "cell_type": "markdown",
   "metadata": {},
   "source": [
    "## submission 記録"
   ]
  },
  {
   "cell_type": "markdown",
   "metadata": {},
   "source": [
    "- テスト用の最初の1回目 (3/11 15時頃)\n",
    "    - Mean RMSE: 22043.852869\n",
    "    - Std RMSE: +- 202.137520087\n",
    "    - Score: 20040.44485"
   ]
  },
  {
   "cell_type": "markdown",
   "metadata": {},
   "source": [
    "- Unemployment と CPIのNaNを単純に中央値で埋めたもの (3/12 1時頃)\n",
    "    - Mean RMSE: 21711.071485\n",
    "    - Std RMSE: +- 202.314811102\n",
    "    - Score: 19537.64481"
   ]
  },
  {
   "cell_type": "markdown",
   "metadata": {},
   "source": [
    "- Unemploymentの欠損値だったフラグ「Missing_val_Unemployment」を付与\n",
    "    - Mean RMSE: 21711.071485\n",
    "    - Std RMSE: +- 202.314811102\n",
    "    - Score: 19537.64481"
   ]
  },
  {
   "cell_type": "markdown",
   "metadata": {
    "collapsed": true
   },
   "source": [
    "## whole_dataの列の順番指定をするサンプル"
   ]
  },
  {
   "cell_type": "code",
   "execution_count": 51,
   "metadata": {
    "collapsed": false
   },
   "outputs": [
    {
     "data": {
      "text/html": [
       "<div>\n",
       "<table border=\"1\" class=\"dataframe\">\n",
       "  <thead>\n",
       "    <tr style=\"text-align: right;\">\n",
       "      <th></th>\n",
       "      <th>CPI</th>\n",
       "      <th>Date</th>\n",
       "      <th>Dept</th>\n",
       "      <th>Fuel_Price</th>\n",
       "      <th>IsHoliday</th>\n",
       "      <th>MarkDown1</th>\n",
       "      <th>MarkDown2</th>\n",
       "      <th>MarkDown3</th>\n",
       "      <th>MarkDown4</th>\n",
       "      <th>MarkDown5</th>\n",
       "      <th>PK_ID</th>\n",
       "      <th>Size</th>\n",
       "      <th>Store</th>\n",
       "      <th>Temperature</th>\n",
       "      <th>Type</th>\n",
       "      <th>Unemployment</th>\n",
       "      <th>Weekly_Sales</th>\n",
       "      <th>is_train</th>\n",
       "      <th>Missing_val_Unemployment</th>\n",
       "    </tr>\n",
       "  </thead>\n",
       "  <tbody>\n",
       "    <tr>\n",
       "      <th>0</th>\n",
       "      <td>211.096358</td>\n",
       "      <td>2010-02-05</td>\n",
       "      <td>1</td>\n",
       "      <td>2.572</td>\n",
       "      <td>2</td>\n",
       "      <td>NaN</td>\n",
       "      <td>NaN</td>\n",
       "      <td>NaN</td>\n",
       "      <td>NaN</td>\n",
       "      <td>NaN</td>\n",
       "      <td>1_1_2010-02-05</td>\n",
       "      <td>151315</td>\n",
       "      <td>1</td>\n",
       "      <td>42.31</td>\n",
       "      <td>1</td>\n",
       "      <td>8.106</td>\n",
       "      <td>24924.5</td>\n",
       "      <td>1</td>\n",
       "      <td>1.0</td>\n",
       "    </tr>\n",
       "  </tbody>\n",
       "</table>\n",
       "</div>"
      ],
      "text/plain": [
       "          CPI        Date  Dept  Fuel_Price  IsHoliday  MarkDown1  MarkDown2  \\\n",
       "0  211.096358  2010-02-05     1       2.572          2        NaN        NaN   \n",
       "\n",
       "   MarkDown3  MarkDown4  MarkDown5           PK_ID    Size  Store  \\\n",
       "0        NaN        NaN        NaN  1_1_2010-02-05  151315      1   \n",
       "\n",
       "   Temperature Type  Unemployment  Weekly_Sales  is_train  \\\n",
       "0        42.31    1         8.106       24924.5         1   \n",
       "\n",
       "   Missing_val_Unemployment  \n",
       "0                       1.0  "
      ]
     },
     "execution_count": 51,
     "metadata": {},
     "output_type": "execute_result"
    }
   ],
   "source": [
    "whole_data.head(1)"
   ]
  },
  {
   "cell_type": "code",
   "execution_count": null,
   "metadata": {
    "collapsed": true
   },
   "outputs": [],
   "source": [
    "whole_data.ix[:,['Store','Dept','Date']]"
   ]
  }
 ],
 "metadata": {
  "kernelspec": {
   "display_name": "Python 3",
   "language": "python",
   "name": "python3"
  },
  "language_info": {
   "codemirror_mode": {
    "name": "ipython",
    "version": 3
   },
   "file_extension": ".py",
   "mimetype": "text/x-python",
   "name": "python",
   "nbconvert_exporter": "python",
   "pygments_lexer": "ipython3",
   "version": "3.5.2"
  }
 },
 "nbformat": 4,
 "nbformat_minor": 0
}
